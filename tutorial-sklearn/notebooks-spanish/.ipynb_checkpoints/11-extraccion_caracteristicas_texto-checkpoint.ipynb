{
 "cells": [
  {
   "cell_type": "code",
   "execution_count": 1,
   "metadata": {},
   "outputs": [],
   "source": [
    "%matplotlib inline\n",
    "import matplotlib.pyplot as plt\n",
    "import numpy as np"
   ]
  },
  {
   "cell_type": "markdown",
   "metadata": {},
   "source": [
    "# Extracción de características de un texto mediante *Bag-of-Words* (bolsas de palabras)"
   ]
  },
  {
   "cell_type": "markdown",
   "metadata": {},
   "source": [
    "En muchas tareas, como en la detección de *spam*, los datos de entrada son cadenas de texto. El texto libre con longitud variable está muy lejos de lo que necesitamos para hacer aprendizaje automático en scikit-learn (representaciones numéricas de tamaño fijo).\n",
    "Sin embargo, hay una forma fácil y efectiva de transformar datos textuales en una representación numérica, utilizando lo que se conoce como *bag-of-words*, que proporciona una estructura de datos que es compatible con los algoritmos de aprendizaje automático de scikit-learn."
   ]
  },
  {
   "cell_type": "markdown",
   "metadata": {},
   "source": [
    "<img src=\"figures/bag_of_words.svg\" width=\"100%\">\n"
   ]
  },
  {
   "cell_type": "markdown",
   "metadata": {},
   "source": [
    "Vamos a asumir que cada texto del dataset es una cadena, que puede ser una frase, un correo, un libro o un artículo completo de noticias. Para representar el patrón, primero partimos la cadena en un conjunto de tokens, que se corresponden con palabras (normalizadas de alguna forma). Un modo simple de hacer esto es partir la frase según los espacios en blanco y luego pasar a minúsculas todas las palabras.\n",
    "\n",
    "Después hacemos un vocabulario a partir de todos los tokens (palabras en minúsculas) que encontramos en el dataset completo. Esto suele resultar en un vocabulario muy largo. Ahora tendríamos que ver si las palabras del vocabulario aparecen o no en nuestro patrón. Representamos cada patrón (cadena) con un vector, donde cada entrada nos informa acerca de cuántas veces aparece una palabra del vocabulario en el patrón (en su versión más simple un valor binario, 1 si aparece al menos una vez, 0 sino).\n",
    "\n",
    "Ya que cada ejemplo va a tener solo unas cuantas palabras y el vocabulario suele ser muy largo, la mayoría de entradas son ceros, lo que lleva a una representación de alta dimensionalidad pero dispersa.\n",
    "\n",
    "Este método se llama bolsa de palabras porque el orden de las palabras se pierde completamente (solo sabemos qué aparecen)."
   ]
  },
  {
   "cell_type": "code",
   "execution_count": 2,
   "metadata": {},
   "outputs": [],
   "source": [
    "X = [\"Algunos dicen que el mundo terminará siendo fuego,\",\n",
    "     \"Otros dicen que terminará siendo hielo.\"]"
   ]
  },
  {
   "cell_type": "code",
   "execution_count": 3,
   "metadata": {},
   "outputs": [
    {
     "data": {
      "text/plain": [
       "2"
      ]
     },
     "execution_count": 3,
     "metadata": {},
     "output_type": "execute_result"
    }
   ],
   "source": [
    "len(X)"
   ]
  },
  {
   "cell_type": "code",
   "execution_count": 4,
   "metadata": {},
   "outputs": [
    {
     "data": {
      "text/plain": [
       "CountVectorizer(analyzer='word', binary=False, decode_error='strict',\n",
       "        dtype=<class 'numpy.int64'>, encoding='utf-8', input='content',\n",
       "        lowercase=True, max_df=1.0, max_features=None, min_df=1,\n",
       "        ngram_range=(1, 1), preprocessor=None, stop_words=None,\n",
       "        strip_accents=None, token_pattern='(?u)\\\\b\\\\w\\\\w+\\\\b',\n",
       "        tokenizer=None, vocabulary=None)"
      ]
     },
     "execution_count": 4,
     "metadata": {},
     "output_type": "execute_result"
    }
   ],
   "source": [
    "from sklearn.feature_extraction.text import CountVectorizer\n",
    "\n",
    "vectorizer = CountVectorizer()\n",
    "vectorizer.fit(X)"
   ]
  },
  {
   "cell_type": "code",
   "execution_count": 5,
   "metadata": {},
   "outputs": [
    {
     "data": {
      "text/plain": [
       "{'algunos': 0,\n",
       " 'dicen': 1,\n",
       " 'que': 7,\n",
       " 'el': 2,\n",
       " 'mundo': 5,\n",
       " 'terminará': 9,\n",
       " 'siendo': 8,\n",
       " 'fuego': 3,\n",
       " 'otros': 6,\n",
       " 'hielo': 4}"
      ]
     },
     "execution_count": 5,
     "metadata": {},
     "output_type": "execute_result"
    }
   ],
   "source": [
    "vectorizer.vocabulary_"
   ]
  },
  {
   "cell_type": "code",
   "execution_count": 6,
   "metadata": {},
   "outputs": [],
   "source": [
    "X_bag_of_words = vectorizer.transform(X)"
   ]
  },
  {
   "cell_type": "code",
   "execution_count": 7,
   "metadata": {},
   "outputs": [
    {
     "data": {
      "text/plain": [
       "(2, 10)"
      ]
     },
     "execution_count": 7,
     "metadata": {},
     "output_type": "execute_result"
    }
   ],
   "source": [
    "X_bag_of_words.shape"
   ]
  },
  {
   "cell_type": "code",
   "execution_count": 8,
   "metadata": {},
   "outputs": [
    {
     "data": {
      "text/plain": [
       "<2x10 sparse matrix of type '<class 'numpy.int64'>'\n",
       "\twith 14 stored elements in Compressed Sparse Row format>"
      ]
     },
     "execution_count": 8,
     "metadata": {},
     "output_type": "execute_result"
    }
   ],
   "source": [
    "X_bag_of_words"
   ]
  },
  {
   "cell_type": "code",
   "execution_count": 9,
   "metadata": {},
   "outputs": [
    {
     "data": {
      "text/plain": [
       "array([[1, 1, 1, 1, 0, 1, 0, 1, 1, 1],\n",
       "       [0, 1, 0, 0, 1, 0, 1, 1, 1, 1]])"
      ]
     },
     "execution_count": 9,
     "metadata": {},
     "output_type": "execute_result"
    }
   ],
   "source": [
    "X_bag_of_words.toarray()"
   ]
  },
  {
   "cell_type": "code",
   "execution_count": 10,
   "metadata": {},
   "outputs": [
    {
     "data": {
      "text/plain": [
       "['algunos',\n",
       " 'dicen',\n",
       " 'el',\n",
       " 'fuego',\n",
       " 'hielo',\n",
       " 'mundo',\n",
       " 'otros',\n",
       " 'que',\n",
       " 'siendo',\n",
       " 'terminará']"
      ]
     },
     "execution_count": 10,
     "metadata": {},
     "output_type": "execute_result"
    }
   ],
   "source": [
    "vectorizer.get_feature_names()"
   ]
  },
  {
   "cell_type": "code",
   "execution_count": 11,
   "metadata": {},
   "outputs": [
    {
     "data": {
      "text/plain": [
       "[array(['algunos', 'dicen', 'el', 'fuego', 'mundo', 'que', 'siendo',\n",
       "        'terminará'],\n",
       "       dtype='<U9'),\n",
       " array(['dicen', 'hielo', 'otros', 'que', 'siendo', 'terminará'],\n",
       "       dtype='<U9')]"
      ]
     },
     "execution_count": 11,
     "metadata": {},
     "output_type": "execute_result"
    }
   ],
   "source": [
    "# Volver al texto original (perdemos el orden y la capitalización)\n",
    "vectorizer.inverse_transform(X_bag_of_words)"
   ]
  },
  {
   "cell_type": "markdown",
   "metadata": {},
   "source": [
    "# Codificación tf-idf\n",
    "Una transformación bastante útil que a menudo es aplicada a la codificación *bag-of-words* es el escalado *term-frequency inverse-document-frequency* ([tf-idf](https://es.wikipedia.org/wiki/Tf-idf)), frecuencia de término -- frecuencia inversa de documento (tener en cuenta la frecuencia de ocurrencia del término en la colección de documentos). Es una transformación no lineal del conteo de palabras. Consiste en una medida numérica que expresa cuán relevante es una palabra para un documento en una colección. Esta medida se utiliza a menudo como un factor de ponderación en recuperación de información y en minería de textos. El valor tf-idf aumenta proporcionalmente al número de veces que una palabra aparece en el documento, pero es compensado por la frecuencia de la palabra en la colección global de documentos, lo que permite manejar el hecho de que algunas palabras son generalmente más comunes que otras.\n",
    " \n",
    "La codificación tf-idf rescala las palabras que son comunes para que tengan menos peso:"
   ]
  },
  {
   "cell_type": "code",
   "execution_count": 12,
   "metadata": {},
   "outputs": [
    {
     "data": {
      "text/plain": [
       "TfidfVectorizer(analyzer='word', binary=False, decode_error='strict',\n",
       "        dtype=<class 'numpy.int64'>, encoding='utf-8', input='content',\n",
       "        lowercase=True, max_df=1.0, max_features=None, min_df=1,\n",
       "        ngram_range=(1, 1), norm='l2', preprocessor=None, smooth_idf=True,\n",
       "        stop_words=None, strip_accents=None, sublinear_tf=False,\n",
       "        token_pattern='(?u)\\\\b\\\\w\\\\w+\\\\b', tokenizer=None, use_idf=True,\n",
       "        vocabulary=None)"
      ]
     },
     "execution_count": 12,
     "metadata": {},
     "output_type": "execute_result"
    }
   ],
   "source": [
    "from sklearn.feature_extraction.text import TfidfVectorizer\n",
    "\n",
    "tfidf_vectorizer = TfidfVectorizer()\n",
    "tfidf_vectorizer.fit(X)"
   ]
  },
  {
   "cell_type": "code",
   "execution_count": 13,
   "metadata": {},
   "outputs": [
    {
     "name": "stdout",
     "output_type": "stream",
     "text": [
      "[[ 0.41  0.29  0.41  0.41  0.    0.41  0.    0.29  0.29  0.29]\n",
      " [ 0.    0.35  0.    0.    0.5   0.    0.5   0.35  0.35  0.35]]\n"
     ]
    }
   ],
   "source": [
    "import numpy as np\n",
    "np.set_printoptions(precision=2)\n",
    "\n",
    "print(tfidf_vectorizer.transform(X).toarray())"
   ]
  },
  {
   "cell_type": "markdown",
   "metadata": {},
   "source": [
    "Los tf-idfs son una forma de representar documentos como vectores de características. Se pueden entender como una modificación de la frecuencia de aparición de términos (`tf`): `tf` nos da una idea acerca de cuántas veces aparece el término en el documento (o patrón). La idea del tf-idf es bajar el peso de los términos proporcionalmente al número de documentos en que aparecen. Así, si un término aparece en muchos documentos en principio puede ser poco importante o al menos no aportar mucha información para las tareas de procesamiento de lenguaje natural (por ejemplo, la palabra `que` es muy común y no nos permite hacer una discriminación útil). Este [libro externo de IPython](http://nbviewer.jupyter.org/github/rasbt/pattern_classification/blob/master/machine_learning/scikit-learn/tfidf_scikit-learn.ipynb) proporciona mucha más información sobre las ecuaciones y el cálculo de la representación tf-idf."
   ]
  },
  {
   "cell_type": "markdown",
   "metadata": {},
   "source": [
    "# Bigramas y n-gramas\n",
    "\n",
    "En el ejemplo de la figura que había al principio de este libro, hemos usado la división en tokens basada en 1-gramas (unigramas): cada token representa un único elemento con respecto al criterio de división.\n",
    "\n",
    "Puede ser que no siempre sea una buena idea descartar completamente el orden de las palabras, ya que las frases compuestas suelen tener significados específicos y algunos modificadores (como la palabra ``no``) pueden invertir el significado de una palabra.\n",
    "\n",
    "Una forma simple de incluir este orden son los n-gramas, que no miran un único token, sino todos los pares de tokens vecinos. Por ejemplo, si usamos división en tokens basada en 2-gramas (bigramas), agruparíamos juntas las palabras con un solape de una palabra. Con 3-gramas (trigramas), trabajaríamos con un solape de dos palabras...\n",
    "\n",
    "- Texto original: \"Así es como consigues hormigas\"\n",
    "- 1-gramas: \"así\", \"es\", \"como\", \"consigues\", \"hormigas\"\n",
    "- 2-gramas: \"así es\", \"es como\", \"como consigues\", \"consigues hormigas\"\n",
    "- 3-gramas: \"así es como\", \"es como consigues\", \"como consigues hormigas\"\n",
    "\n",
    "El valor de $n$ para los n-gramas que resultará en el rendimiento óptimo para nuestro modelo predictivo depende enteramente del algoritmo de aprendizaje, del dataset y de la tarea. O, en otras palabras, tenemos que considerar $n$ como un parámetro de ajuste (en cuadernos posteriores veremos como tratar estos parámetros de ajuste).\n",
    "\n",
    "Ahora vamos a crear un modelo basado en *bag-of-words* de bigramas usando la clase de scikit-learn `CountVectorizer`:"
   ]
  },
  {
   "cell_type": "code",
   "execution_count": 14,
   "metadata": {},
   "outputs": [
    {
     "data": {
      "text/plain": [
       "CountVectorizer(analyzer='word', binary=False, decode_error='strict',\n",
       "        dtype=<class 'numpy.int64'>, encoding='utf-8', input='content',\n",
       "        lowercase=True, max_df=1.0, max_features=None, min_df=1,\n",
       "        ngram_range=(2, 2), preprocessor=None, stop_words=None,\n",
       "        strip_accents=None, token_pattern='(?u)\\\\b\\\\w\\\\w+\\\\b',\n",
       "        tokenizer=None, vocabulary=None)"
      ]
     },
     "execution_count": 14,
     "metadata": {},
     "output_type": "execute_result"
    }
   ],
   "source": [
    "# Utilizar secuencias de tokens de longitud mínima 2 y máxima 2\n",
    "bigram_vectorizer = CountVectorizer(ngram_range=(2, 2))\n",
    "bigram_vectorizer.fit(X)"
   ]
  },
  {
   "cell_type": "code",
   "execution_count": 15,
   "metadata": {},
   "outputs": [
    {
     "data": {
      "text/plain": [
       "['algunos dicen',\n",
       " 'dicen que',\n",
       " 'el mundo',\n",
       " 'mundo terminará',\n",
       " 'otros dicen',\n",
       " 'que el',\n",
       " 'que terminará',\n",
       " 'siendo fuego',\n",
       " 'siendo hielo',\n",
       " 'terminará siendo']"
      ]
     },
     "execution_count": 15,
     "metadata": {},
     "output_type": "execute_result"
    }
   ],
   "source": [
    "bigram_vectorizer.get_feature_names()"
   ]
  },
  {
   "cell_type": "code",
   "execution_count": 16,
   "metadata": {},
   "outputs": [
    {
     "data": {
      "text/plain": [
       "array([[1, 1, 1, 1, 0, 1, 0, 1, 0, 1],\n",
       "       [0, 1, 0, 0, 1, 0, 1, 0, 1, 1]])"
      ]
     },
     "execution_count": 16,
     "metadata": {},
     "output_type": "execute_result"
    }
   ],
   "source": [
    "bigram_vectorizer.transform(X).toarray()"
   ]
  },
  {
   "cell_type": "markdown",
   "metadata": {},
   "source": [
    "Es común que queramos incluir unigramas (tokens individuales) y bigramas, lo que podemos hacer pasándole la siguiente tupla como argumento al parámetro `ngram_range` del constructor del `CountVectorizer`:"
   ]
  },
  {
   "cell_type": "code",
   "execution_count": 17,
   "metadata": {},
   "outputs": [
    {
     "data": {
      "text/plain": [
       "CountVectorizer(analyzer='word', binary=False, decode_error='strict',\n",
       "        dtype=<class 'numpy.int64'>, encoding='utf-8', input='content',\n",
       "        lowercase=True, max_df=1.0, max_features=None, min_df=1,\n",
       "        ngram_range=(1, 2), preprocessor=None, stop_words=None,\n",
       "        strip_accents=None, token_pattern='(?u)\\\\b\\\\w\\\\w+\\\\b',\n",
       "        tokenizer=None, vocabulary=None)"
      ]
     },
     "execution_count": 17,
     "metadata": {},
     "output_type": "execute_result"
    }
   ],
   "source": [
    "gram_vectorizer = CountVectorizer(ngram_range=(1, 2))\n",
    "gram_vectorizer.fit(X)"
   ]
  },
  {
   "cell_type": "code",
   "execution_count": 18,
   "metadata": {},
   "outputs": [
    {
     "data": {
      "text/plain": [
       "['algunos',\n",
       " 'algunos dicen',\n",
       " 'dicen',\n",
       " 'dicen que',\n",
       " 'el',\n",
       " 'el mundo',\n",
       " 'fuego',\n",
       " 'hielo',\n",
       " 'mundo',\n",
       " 'mundo terminará',\n",
       " 'otros',\n",
       " 'otros dicen',\n",
       " 'que',\n",
       " 'que el',\n",
       " 'que terminará',\n",
       " 'siendo',\n",
       " 'siendo fuego',\n",
       " 'siendo hielo',\n",
       " 'terminará',\n",
       " 'terminará siendo']"
      ]
     },
     "execution_count": 18,
     "metadata": {},
     "output_type": "execute_result"
    }
   ],
   "source": [
    "gram_vectorizer.get_feature_names()"
   ]
  },
  {
   "cell_type": "code",
   "execution_count": 19,
   "metadata": {},
   "outputs": [],
   "source": [
    "transformada = gram_vectorizer.transform(X).toarray()"
   ]
  },
  {
   "cell_type": "markdown",
   "metadata": {},
   "source": [
    "n-gramas de caracteres\n",
    "=================\n",
    "\n",
    "A veces resulta interesante analizar los caracteres individuales, además de las palabras. Esto es particularmente útil si tenemos datos muy ruidosos y queremos identificar el lenguaje o si queremos predecir algo sobre una sola palabra.\n",
    "Para analizar caracteres en lugar de palabras utilizamos el parámetro ``analyzer=\"char\"``. Analizar los caracteres aislados no suele proporcionar mucha información, pero considerar n-gramas más largos si que puede servir:"
   ]
  },
  {
   "cell_type": "code",
   "execution_count": 20,
   "metadata": {},
   "outputs": [
    {
     "data": {
      "text/plain": [
       "['Algunos dicen que el mundo terminará siendo fuego,',\n",
       " 'Otros dicen que terminará siendo hielo.']"
      ]
     },
     "execution_count": 20,
     "metadata": {},
     "output_type": "execute_result"
    }
   ],
   "source": [
    "X"
   ]
  },
  {
   "cell_type": "code",
   "execution_count": 21,
   "metadata": {},
   "outputs": [
    {
     "data": {
      "text/plain": [
       "CountVectorizer(analyzer='char', binary=False, decode_error='strict',\n",
       "        dtype=<class 'numpy.int64'>, encoding='utf-8', input='content',\n",
       "        lowercase=True, max_df=1.0, max_features=None, min_df=1,\n",
       "        ngram_range=(2, 2), preprocessor=None, stop_words=None,\n",
       "        strip_accents=None, token_pattern='(?u)\\\\b\\\\w\\\\w+\\\\b',\n",
       "        tokenizer=None, vocabulary=None)"
      ]
     },
     "execution_count": 21,
     "metadata": {},
     "output_type": "execute_result"
    }
   ],
   "source": [
    "char_vectorizer = CountVectorizer(ngram_range=(2, 2), analyzer=\"char\")\n",
    "char_vectorizer.fit(X)"
   ]
  },
  {
   "cell_type": "code",
   "execution_count": 22,
   "metadata": {
    "scrolled": true
   },
   "outputs": [
    {
     "name": "stdout",
     "output_type": "stream",
     "text": [
      "[' d', ' e', ' f', ' h', ' m', ' q', ' s', ' t', 'al', 'ar', 'ce', 'di', 'do', 'e ', 'eg', 'el', 'en', 'er', 'fu', 'go', 'gu', 'hi', 'ic', 'ie', 'in', 'l ', 'lg', 'lo', 'mi', 'mu', 'n ', 'na', 'nd', 'no', 'o ', 'o,', 'o.', 'os', 'ot', 'qu', 'rm', 'ro', 'rá', 's ', 'si', 'te', 'tr', 'ue', 'un', 'á ']\n"
     ]
    }
   ],
   "source": [
    "print(char_vectorizer.get_feature_names())"
   ]
  },
  {
   "cell_type": "markdown",
   "metadata": {
    "collapsed": true
   },
   "source": [
    "<div class=\"alert alert-success\">\n",
    "    <b>EJERCICIO</b>:\n",
    "     <ul>\n",
    "      <li>\n",
    "      Obtener los n-gramas del \"zen of python\" que aparece a continuación (puedes verlo escribiendo ``import this``), y encuentra el n-grama más común. Considera valores de $n\\in\\{2,3,4\\}$. Queremos tratar cada línea como un documento individual. Puedes conseguirlo si particionas el con el carácter de nueva línea (``\\n``). Obtén la codificación tf-idf de los datos. ¿Qué palabras tienen la mayor puntuación tf-idf? ¿Por qué? ¿Qué es lo que cambia si utilizas ``TfidfVectorizer(norm=\"none\")``?\n",
    "      </li>\n",
    "    </ul>\n",
    "</div>"
   ]
  },
  {
   "cell_type": "markdown",
   "metadata": {},
   "source": [
    "<b>Resolución</b>"
   ]
  },
  {
   "cell_type": "code",
   "execution_count": 23,
   "metadata": {},
   "outputs": [],
   "source": [
    "zen = \"\"\"Beautiful is better than ugly.\n",
    "Explicit is better than implicit.\n",
    "Simple is better than complex.\n",
    "Complex is better than complicated.\n",
    "Flat is better than nested.\n",
    "Sparse is better than dense.\n",
    "Readability counts.\n",
    "Special cases aren't special enough to break the rules.\n",
    "Although practicality beats purity.\n",
    "Errors should never pass silently.\n",
    "Unless explicitly silenced.\n",
    "In the face of ambiguity, refuse the temptation to guess.\n",
    "There should be one-- and preferably only one --obvious way to do it.\n",
    "Although that way may not be obvious at first unless you're Dutch.\n",
    "Now is better than never.\n",
    "Although never is often better than *right* now.\n",
    "If the implementation is hard to explain, it's a bad idea.\n",
    "If the implementation is easy to explain, it may be a good idea.\n",
    "Namespaces are one honking great idea -- let's do more of those!\"\"\""
   ]
  },
  {
   "cell_type": "code",
   "execution_count": 24,
   "metadata": {},
   "outputs": [],
   "source": [
    "X = []\n",
    "#Divide el array en los saltos de línea \"\\n\"\n",
    "X = zen.splitlines()"
   ]
  },
  {
   "cell_type": "markdown",
   "metadata": {},
   "source": [
    "## TfidfVectorizer ##"
   ]
  },
  {
   "cell_type": "code",
   "execution_count": 25,
   "metadata": {},
   "outputs": [
    {
     "name": "stdout",
     "output_type": "stream",
     "text": [
      "\n",
      "El mayor valor Indice TFIDF con ngrama N = ( 1 , 1 ) =  0.707106781187\n",
      "Palabra mas importante:  counts\n",
      "Palabra mas importante:  readability\n",
      "El mayor valor Indice TFIDF con ngrama N = ( 1 , 1 ) y none =  6.60517018599\n",
      "special\n",
      "\n",
      "El mayor valor Indice TFIDF con ngrama N = ( 1 , 2 ) =  0.57735026919\n",
      "Palabra mas importante:  counts\n",
      "Palabra mas importante:  readability\n",
      "Palabra mas importante:  readability counts\n",
      "El mayor valor Indice TFIDF con ngrama N = ( 1 , 2 ) y none =  6.60517018599\n",
      "special\n",
      "\n",
      "El mayor valor Indice TFIDF con ngrama N = ( 1 , 3 ) =  0.57735026919\n",
      "Palabra mas importante:  counts\n",
      "Palabra mas importante:  readability\n",
      "Palabra mas importante:  readability counts\n",
      "El mayor valor Indice TFIDF con ngrama N = ( 1 , 3 ) y none =  6.60517018599\n",
      "special\n",
      "\n",
      "El mayor valor Indice TFIDF con ngrama N = ( 1 , 4 ) =  0.57735026919\n",
      "Palabra mas importante:  counts\n",
      "Palabra mas importante:  readability\n",
      "Palabra mas importante:  readability counts\n",
      "El mayor valor Indice TFIDF con ngrama N = ( 1 , 4 ) y none =  6.60517018599\n",
      "special\n"
     ]
    }
   ],
   "source": [
    "from sklearn.feature_extraction.text import TfidfVectorizer\n",
    "import numpy as np\n",
    "\n",
    "#Para comparar resultados se utiliza el parametro Normalizacion = NONE\n",
    "tfidf_vectorizer      = []\n",
    "tfidf_vectorizer_none = []\n",
    "\n",
    "#En el bucle se crean los vectorizers, con los diferentes valores de ngrama con N=1,2,3,4 \n",
    "#y los valores de normalización\n",
    "for m in range(0,4):\n",
    "    tfidf_vectorizer = TfidfVectorizer(ngram_range=(1,m+1), norm='l2')\n",
    "    tfidf_vectorizer.fit(X)\n",
    "    \n",
    "    tfidf_vectorizer_none= TfidfVectorizer(ngram_range=(1,m+1), norm=None)\n",
    "    tfidf_vectorizer_none.fit(X)\n",
    "    \n",
    "    np.set_printoptions(precision=2)\n",
    "    transformada      = tfidf_vectorizer.transform(X).toarray() \n",
    "    transformada_none = tfidf_vectorizer_none.transform(X).toarray()\n",
    "    \n",
    "    #Inicializo los maximos \n",
    "    maximo   = 0\n",
    "    maximo_n = 0\n",
    "    #Inicializacion de los vectores j\n",
    "    j_max   = []\n",
    "    j_max_n = []\n",
    "    \n",
    "    ii,jj = transformada.shape\n",
    "    #print(\"\\n\",ii,jj)\n",
    "\n",
    "    #Busco el maximo de la matriz (Que palabra es la de mayor frecuencia)\n",
    "    for i in range(0,ii):\n",
    "        for j in range (0,jj):\n",
    "            if(transformada[i][j]>maximo):\n",
    "                maximo   = transformada[i][j]\n",
    "            if(transformada_none[i][j]>maximo_n):\n",
    "                maximo_n = transformada_none[i][j]\n",
    "    \n",
    "    #Ahora busco la palabra correspondiente a ese maximo y lo guardo\n",
    "    for i in range(0,ii):\n",
    "        for j in range(0,jj):\n",
    "            if(transformada[i][j] == maximo):\n",
    "                j_max.append(j)\n",
    "            if(transformada_none[i][j] == maximo_n):\n",
    "                j_max_n.append(j)\n",
    "                \n",
    "    print(\"\\nEl mayor valor Indice TFIDF con ngrama N = ( 1 ,\",m+1,\") = \",maximo)\n",
    "    for j in range (len(j_max)):\n",
    "        print(\"Palabra mas importante: \",tfidf_vectorizer.get_feature_names()[j_max[j]])\n",
    "    \n",
    "    print(\"El mayor valor Indice TFIDF con ngrama N = ( 1 ,\",m+1,\") y none = \",maximo_n)\n",
    "    for j in range (len(j_max_n)):\n",
    "        print(tfidf_vectorizer.get_feature_names()[j_max_n[j]])    "
   ]
  },
  {
   "cell_type": "markdown",
   "metadata": {},
   "source": [
    "La codificación tf-IDF de los datos para el ngrama con n=1, determina 2 palabras con la mayor puntuación con un valor de 0.707106781187, y las palabras con este valor son: \"counts\" y \"readability\". Del análisis de los datos utilizados se observa que el método tf-IDF con parémetro \"norm\" por defecto, toma la normalización como L2, lo que equivale a distancia euclídea, en otras palabras normaliza los datos de entrada para que si existen palabras repetidas, éstas no tengan mayor valor que las que no se encuentran repetidas. A continuación considera en el análisis de la importancia de las palabras el \"largo\" de la oración, o lo que es equivalente la cantidad de palabras de la oración. \n",
    "Es por esto que se observa que el resultado son las dos palabras de la misma oración, que en efecto es la oración más corta de todo el texto con solo 2 palabras.\n",
    "Al ejecutar el método con el atributo norm=None, se cambia el algoritmo de resolución y no aplica normalización por lo que la palabra con más importancia es la que aparece \"más\" veces en el texto, sin considerar el largo de las frases."
   ]
  }
 ],
 "metadata": {
  "anaconda-cloud": {},
  "kernelspec": {
   "display_name": "Python 3",
   "language": "python",
   "name": "python3"
  },
  "language_info": {
   "codemirror_mode": {
    "name": "ipython",
    "version": 3
   },
   "file_extension": ".py",
   "mimetype": "text/x-python",
   "name": "python",
   "nbconvert_exporter": "python",
   "pygments_lexer": "ipython3",
   "version": "3.6.8"
  }
 },
 "nbformat": 4,
 "nbformat_minor": 1
}
